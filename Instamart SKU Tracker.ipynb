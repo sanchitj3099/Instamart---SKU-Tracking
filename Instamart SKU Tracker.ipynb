{
 "cells": [
  {
   "cell_type": "markdown",
   "metadata": {},
   "source": [
    "# Instamart Scraper"
   ]
  },
  {
   "cell_type": "code",
   "execution_count": null,
   "metadata": {},
   "outputs": [],
   "source": [
    "import pandas as pd\n",
    "from selenium import webdriver\n",
    "import warnings\n",
    "warnings.filterwarnings(\"ignore\")\n",
    "from time import sleep\n",
    "from selenium.common.exceptions import NoSuchElementException\n",
    "from datetime import datetime\n",
    "from selenium.webdriver.chrome.options import Options\n",
    "from bs4 import BeautifulSoup\n",
    "import time"
   ]
  },
  {
   "cell_type": "code",
   "execution_count": null,
   "metadata": {},
   "outputs": [],
   "source": [
    "a = pd.read_excel('Swiggy_Pincode_OOS.xlsx')"
   ]
  },
  {
   "cell_type": "code",
   "execution_count": null,
   "metadata": {},
   "outputs": [],
   "source": [
    "a"
   ]
  },
  {
   "cell_type": "code",
   "execution_count": null,
   "metadata": {},
   "outputs": [],
   "source": [
    "a = a.sort_values(by=[\"DRR_GCS\"],ascending = False)"
   ]
  },
  {
   "cell_type": "code",
   "execution_count": null,
   "metadata": {},
   "outputs": [],
   "source": [
    "b = a[0:500]"
   ]
  },
  {
   "cell_type": "code",
   "execution_count": null,
   "metadata": {},
   "outputs": [],
   "source": [
    "b = b.sort_values(by=[\"Pincode\"])"
   ]
  },
  {
   "cell_type": "code",
   "execution_count": null,
   "metadata": {},
   "outputs": [],
   "source": [
    "b.reset_index(inplace=True)"
   ]
  },
  {
   "cell_type": "code",
   "execution_count": null,
   "metadata": {},
   "outputs": [],
   "source": [
    "\n",
    "b.drop('index',axis=1,inplace=True)"
   ]
  },
  {
   "cell_type": "code",
   "execution_count": null,
   "metadata": {},
   "outputs": [],
   "source": [
    "b"
   ]
  },
  {
   "cell_type": "code",
   "execution_count": null,
   "metadata": {},
   "outputs": [],
   "source": [
    "path = r\"C:\\Users\\Sanchit\\Downloads\\chromedriver.exe\"\n",
    "mobile_emulation = {\n",
    "   \"deviceMetrics\": { \"width\": 360, \"height\": 640, \"pixelRatio\": 3.0 },\n",
    "   \"userAgent\": \"Mozilla/5.0 (Linux; Android 4.2.1; en-us; Nexus 5 Build/JOP40D) AppleWebKit/535.19 (KHTML, like Gecko) Chrome/18.0.1025.166 Mobile Safari/535.19\" }"
   ]
  },
  {
   "cell_type": "code",
   "execution_count": null,
   "metadata": {},
   "outputs": [],
   "source": [
    "options = Options()\n",
    "options.add_experimental_option(\"mobileEmulation\", mobile_emulation)\n",
    "options.add_argument(\"--disable-javascript\")\n",
    "options.add_argument('--headless')\n",
    "options.add_argument('--disable-gpu')  \n",
    "options.add_argument('--no-sandbox')"
   ]
  },
  {
   "cell_type": "code",
   "execution_count": null,
   "metadata": {},
   "outputs": [],
   "source": [
    "count = 0\n",
    "df = {\"Date\":[],\"Master SKU\":[],\"Category\":[],\"City\":[],\"Pincode\":[],\"Selling Price\":[],\"Availability\":[],\"STORE_ID\":[],\"Opportunity Lost\":[]}"
   ]
  },
  {
   "cell_type": "code",
   "execution_count": null,
   "metadata": {},
   "outputs": [],
   "source": [
    "start_time = time.time()"
   ]
  },
  {
   "cell_type": "code",
   "execution_count": null,
   "metadata": {},
   "outputs": [],
   "source": [
    "i = 419"
   ]
  },
  {
   "cell_type": "code",
   "execution_count": null,
   "metadata": {
    "scrolled": true
   },
   "outputs": [],
   "source": [
    "while i < 500:\n",
    "    browser = webdriver.Chrome(executable_path=path, chrome_options = options)\n",
    "    browser.get(b.loc[i,\"Link\"])\n",
    "    element = browser.find_element_by_xpath('//*[@id=\"root\"]/div/div[1]/button')\n",
    "    element.click()\n",
    "    sleep(2)\n",
    "    browser.find_element_by_xpath('//*[@id=\"root\"]/div/div[1]/div[1]/div/div[1]/label/input').send_keys(str(b.loc[i,\"Pincode\"]))\n",
    "    sleep(2)\n",
    "    browser.find_element_by_xpath('//*[@id=\"root\"]/div/div[1]/div[2]/div/div/button/span').click()\n",
    "    sleep(5)\n",
    "    x = browser.page_source\n",
    "    soup = BeautifulSoup(x,\"html.parser\")\n",
    "    soup.beautify\n",
    "    \n",
    "    try:\n",
    "        oos = soup.find(\"span\",{\"class\":\"_2z1M0 _1V2V5\"})\n",
    "        availability = oos.text\n",
    "        sp = soup.find(\"span\",{\"class\":\"_3fCHW iD_f-\"}).text\n",
    "    except AttributeError:\n",
    "        try:\n",
    "            oos = soup.find(\"div\",{\"class\":\"_1IsDA\"}).text\n",
    "            if oos == 'go to swiggy home':\n",
    "                availability = \"Out of Stock\"\n",
    "            sp = 0\n",
    "        except AttributeError:\n",
    "            try:\n",
    "                sp = soup.find(\"span\",{\"class\":\"_3fCHW iD_f-\"}).text\n",
    "                availability = \"In Stock\"\n",
    "            except AttributeError:\n",
    "                try:\n",
    "                    ta = soup.find(\"div\",{\"class\":\"_2xPHa _2loQy\"})\n",
    "                    if ta.text == \"Try Again\":\n",
    "                        sp = (0)\n",
    "                        availability = \"Out of Stock\"\n",
    "                except AttributeError:\n",
    "                    browser.get(b.loc[i,\"Link\"])\n",
    "                    sleep(3)\n",
    "                    x = browser.page_source\n",
    "                    soup = BeautifulSoup(x,\"html.parser\")\n",
    "                    soup.beautify\n",
    "                    sp = soup.find(\"span\",{\"class\":\"_3fCHW iD_f-\"}).text\n",
    "                    availability = \"In Stock\"\n",
    "                \n",
    "    count = count+1\n",
    "    print(count)            \n",
    "    df[\"Selling Price\"].append(sp)\n",
    "    df[\"Availability\"].append(availability)\n",
    "    df[\"Date\"].append(datetime.now())\n",
    "    df['Master SKU'].append(b.loc[i,\"Master SKU\"])\n",
    "    df[\"Category\"].append(b.loc[i,\"Category\"])\n",
    "    df[\"City\"].append(b.loc[i,\"City\"])\n",
    "    df[\"Pincode\"].append(b.loc[i,\"Pincode\"])\n",
    "    df[\"STORE_ID\"].append(b.loc[i,\"STORE_ID\"])\n",
    "    df[\"Opportunity Lost\"].append(b.loc[i,\"DRR_GCS\"])\n",
    "    \n",
    "    j = i+1\n",
    "    while b.loc[j,\"Pincode\"] == b.loc[j-1,\"Pincode\"]:\n",
    "        browser.get(b.loc[j,\"Link\"])\n",
    "        sleep(3)\n",
    "        x = browser.page_source\n",
    "        soup = BeautifulSoup(x,\"html.parser\")\n",
    "        soup.beautify\n",
    "        try:\n",
    "            oos = soup.find(\"span\",{\"class\":\"_2z1M0 _1V2V5\"})\n",
    "            availability = oos.text\n",
    "            sp = soup.find(\"span\",{\"class\":\"_3fCHW iD_f-\"}).text \n",
    "        except AttributeError:\n",
    "            try:\n",
    "                sp = soup.find(\"span\",{\"class\":\"_3fCHW iD_f-\"}).text\n",
    "                availability = \"In Stock\"\n",
    "            except AttributeError:\n",
    "                try:\n",
    "                    sp = soup.find(\"span\",{\"class\":\"_3fCHW iD_f-\"}).text\n",
    "                    availability = \"In Stock\"\n",
    "                except AttributeError:\n",
    "                    try:\n",
    "                        ta = soup.find(\"div\",{\"class\":\"_2xPHa _2loQy\"})\n",
    "                        if ta.text == \"Try Again\":\n",
    "                            sp = (0)\n",
    "                            availability = \"Out of Stock\"\n",
    "                    except AttributeError:\n",
    "                        browser.get(b.loc[j,\"Link\"])\n",
    "                        sleep(3)\n",
    "                        x = browser.page_source\n",
    "                        soup = BeautifulSoup(x,\"html.parser\")\n",
    "                        soup.beautify\n",
    "                        sp = soup.find(\"span\",{\"class\":\"_3fCHW iD_f-\"}).text\n",
    "                        availability = \"In Stock\"\n",
    "        \n",
    "        df[\"Selling Price\"].append(sp)\n",
    "        df[\"Availability\"].append(availability)\n",
    "        df[\"Date\"].append(datetime.now())\n",
    "        df['Master SKU'].append(b.loc[j,\"Master SKU\"])\n",
    "        df[\"Category\"].append(b.loc[j,\"Category\"])\n",
    "        df[\"City\"].append(b.loc[j,\"City\"])\n",
    "        df[\"Pincode\"].append(b.loc[j,\"Pincode\"])\n",
    "        df[\"STORE_ID\"].append(b.loc[j,\"STORE_ID\"])\n",
    "        df[\"Opportunity Lost\"].append(b.loc[j,\"DRR_GCS\"])\n",
    "        j = j + 1\n",
    "        count+=1\n",
    "        print(count)\n",
    "    \n",
    "    i = j\n",
    "    browser.close()\n",
    "        \n",
    "    "
   ]
  },
  {
   "cell_type": "code",
   "execution_count": null,
   "metadata": {},
   "outputs": [],
   "source": [
    "fin = pd.DataFrame(df)"
   ]
  },
  {
   "cell_type": "code",
   "execution_count": null,
   "metadata": {},
   "outputs": [],
   "source": [
    "fin"
   ]
  },
  {
   "cell_type": "code",
   "execution_count": null,
   "metadata": {},
   "outputs": [],
   "source": []
  }
 ],
 "metadata": {
  "kernelspec": {
   "display_name": "Python 3 (ipykernel)",
   "language": "python",
   "name": "python3"
  },
  "language_info": {
   "codemirror_mode": {
    "name": "ipython",
    "version": 3
   },
   "file_extension": ".py",
   "mimetype": "text/x-python",
   "name": "python",
   "nbconvert_exporter": "python",
   "pygments_lexer": "ipython3",
   "version": "3.11.4"
  }
 },
 "nbformat": 4,
 "nbformat_minor": 4
}
